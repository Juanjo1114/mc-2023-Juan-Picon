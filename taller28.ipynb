{
  "nbformat": 4,
  "nbformat_minor": 0,
  "metadata": {
    "colab": {
      "provenance": []
    },
    "kernelspec": {
      "name": "python3",
      "display_name": "Python 3"
    },
    "language_info": {
      "name": "python"
    }
  },
  "cells": [
    {
      "cell_type": "code",
      "execution_count": 1,
      "metadata": {
        "colab": {
          "base_uri": "https://localhost:8080/"
        },
        "id": "9eND-0_tJ6IJ",
        "outputId": "df2fd4bd-108e-4650-960a-259dcebf7851"
      },
      "outputs": [
        {
          "output_type": "stream",
          "name": "stdout",
          "text": [
            "La raíz estimada es: 1.74090542\n"
          ]
        }
      ],
      "source": [
        "import math\n",
        "\n",
        "def f(x):\n",
        "    return x**2 - math.exp(-2*x) - 3\n",
        "\n",
        "def df(x):\n",
        "    return 2*x + 2*math.exp(-2*x)\n",
        "\n",
        "def newton_raphson(guess, max_iterations=100, tolerance=1e-8):\n",
        "    x = guess\n",
        "    for i in range(max_iterations):\n",
        "        fx = f(x)\n",
        "        if abs(fx) < tolerance:\n",
        "            return x\n",
        "        dfx = df(x)\n",
        "        if dfx == 0:\n",
        "            break\n",
        "        x = x - fx / dfx\n",
        "    print(\"No se encontró una raíz después de\", max_iterations, \"iteraciones.\")\n",
        "    return None\n",
        "\n",
        "# Estimación inicial\n",
        "guess = 1.0\n",
        "\n",
        "# Ejecutar el método de Newton-Raphson\n",
        "root = newton_raphson(guess)\n",
        "\n",
        "if root is not None:\n",
        "    print(\"La raíz estimada es:\", round(root, 8))\n"
      ]
    }
  ]
}