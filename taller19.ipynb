{
  "nbformat": 4,
  "nbformat_minor": 0,
  "metadata": {
    "colab": {
      "provenance": []
    },
    "kernelspec": {
      "name": "python3",
      "display_name": "Python 3"
    },
    "language_info": {
      "name": "python"
    }
  },
  "cells": [
    {
      "cell_type": "code",
      "execution_count": 1,
      "metadata": {
        "colab": {
          "base_uri": "https://localhost:8080/"
        },
        "id": "mZMBn-k3I8Zo",
        "outputId": "ef20e055-76c0-4f74-ceec-38b1d46422b2"
      },
      "outputs": [
        {
          "output_type": "stream",
          "name": "stdout",
          "text": [
            "a1 =  2.2035714285714283\n",
            "a0 =  -3.8999999999999986\n",
            "Desviación estandar:  149.96857142857144\n",
            "error estándar de la estimación:  1.6738108785471733\n",
            "coeficiente de correlación:  95.21514236883797 %\n"
          ]
        }
      ],
      "source": [
        "import operator\n",
        "import statistics\n",
        "import math\n",
        "import matplotlib.pyplot as plt\n",
        "import numpy as np\n",
        "x = [1,2,3,4,5,6,7]\n",
        "y = [0.2, 0.5, 1.8, 3.4, 5.7, 9.0, 13.8]\n",
        "xy = list(map(operator.mul, x, y))\n",
        "\n",
        "x2 = [1,2,3,4,5,6,7]\n",
        "for i in range(0,len(x)):\n",
        "\tx2[i]=x2[i]*x2[i]\n",
        "\n",
        "promy = statistics.mean(y)\n",
        "promx = statistics.mean(x)\n",
        "\n",
        "a1 = ((len(x))*(sum(xy))-(sum(x))*(sum(y)))/((len(x))*(sum(x2))-(sum(x))**2)\n",
        "a0 = promy - (a1)*promx\n",
        "print(\"a1 = \", a1)\n",
        "print(\"a0 = \", a0)\n",
        "\n",
        "#desviación estandar\n",
        "ypy = [0.2, 0.5, 1.8, 3.4, 5.7, 9.0, 13.8]\n",
        "for i in range(0,len(x)):\n",
        "\typy[i]=(ypy[i]-promy)**2\n",
        "\n",
        "yax = [0.2, 0.5, 1.8, 3.4, 5.7, 9.0, 13.8]\n",
        "for i in range(0,len(x)):\n",
        "\tyax[i]=(yax[i]-a0-a1*x[i])**2\n",
        "\n",
        "st = sum(ypy)\n",
        "print(\"Desviación estandar: \", st)\n",
        "\n",
        "#error estandar\n",
        "sr = sum(yax)\n",
        "syx = math.sqrt(sr/(len(yax)-2))\n",
        "print(\"error estándar de la estimación: \", syx)\n",
        "\n",
        "#coeficiente de correlación\n",
        "r = (math.sqrt((st-sr)/st))*100\n",
        "print(\"coeficiente de correlación: \",r,\"%\")"
      ]
    }
  ]
}